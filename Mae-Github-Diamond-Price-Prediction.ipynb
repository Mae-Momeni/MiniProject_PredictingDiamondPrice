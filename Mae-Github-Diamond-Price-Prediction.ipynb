{
 "cells": [
  {
   "cell_type": "markdown",
   "id": "8d544287",
   "metadata": {},
   "source": [
    "# Predicting Diamond Price"
   ]
  },
  {
   "cell_type": "markdown",
   "id": "f3147b82",
   "metadata": {},
   "source": [
    "This is a regression project means the target is quantitive not categorical.\n",
    "\n",
    "### Data Set Information:\n",
    "\n",
    "**A dataset containing the prices and other features of almost 54,000 diamonds.**\n",
    "\n",
    "### Features description\n",
    "\n",
    "**Number of Attributes: 10 (9 predictive features, 1 target)**\n",
    "\n",
    "Feature Information: A data frame with 53,940 rows and 10 variables:\n",
    "\n",
    "price: price in US dollars (\\$326--\\$18,823) **(target)**\n",
    "\n",
    "carat: weight of the diamond (0.2--5.01)\n",
    "\n",
    "cut: quality of the cut (Fair, Good, Very Good, Premium, Ideal)\n",
    "\n",
    "color: diamond colour, from J (worst) to D (best)\n",
    "\n",
    "clarity: a measurement of how clear the diamond is (I1 (worst), SI2, SI1, VS2, VS1, VVS2, VVS1, IF (best))\n",
    "\n",
    "x: length in mm (0--10.74)\n",
    "\n",
    "y: width in mm (0--58.9)\n",
    "\n",
    "z: depth in mm (0--31.8)\n",
    "\n",
    "depth: total depth percentage = z / mean(x, y) = 2 * z / (x + y) (43--79)\n",
    "\n",
    "table: width of top of diamond relative to widest point (43--95)"
   ]
  },
  {
   "cell_type": "code",
   "execution_count": 1,
   "id": "f884d7e1",
   "metadata": {},
   "outputs": [],
   "source": [
    "import numpy as np\n",
    "import pandas as pd\n",
    "import matplotlib.pyplot as plt\n",
    "%matplotlib inline\n",
    "from collections import OrderedDict"
   ]
  },
  {
   "cell_type": "markdown",
   "id": "79843eed",
   "metadata": {},
   "source": [
    "### Reading data"
   ]
  },
  {
   "cell_type": "code",
   "execution_count": 2,
   "id": "1b90d64d",
   "metadata": {},
   "outputs": [
    {
     "data": {
      "text/html": [
       "<div>\n",
       "<style scoped>\n",
       "    .dataframe tbody tr th:only-of-type {\n",
       "        vertical-align: middle;\n",
       "    }\n",
       "\n",
       "    .dataframe tbody tr th {\n",
       "        vertical-align: top;\n",
       "    }\n",
       "\n",
       "    .dataframe thead th {\n",
       "        text-align: right;\n",
       "    }\n",
       "</style>\n",
       "<table border=\"1\" class=\"dataframe\">\n",
       "  <thead>\n",
       "    <tr style=\"text-align: right;\">\n",
       "      <th></th>\n",
       "      <th>carat</th>\n",
       "      <th>cut</th>\n",
       "      <th>color</th>\n",
       "      <th>clarity</th>\n",
       "      <th>depth</th>\n",
       "      <th>table</th>\n",
       "      <th>price</th>\n",
       "      <th>x</th>\n",
       "      <th>y</th>\n",
       "      <th>z</th>\n",
       "    </tr>\n",
       "  </thead>\n",
       "  <tbody>\n",
       "    <tr>\n",
       "      <th>0</th>\n",
       "      <td>0.23</td>\n",
       "      <td>Ideal</td>\n",
       "      <td>E</td>\n",
       "      <td>SI2</td>\n",
       "      <td>61.5</td>\n",
       "      <td>55.0</td>\n",
       "      <td>326</td>\n",
       "      <td>3.95</td>\n",
       "      <td>3.98</td>\n",
       "      <td>2.43</td>\n",
       "    </tr>\n",
       "    <tr>\n",
       "      <th>1</th>\n",
       "      <td>0.21</td>\n",
       "      <td>Premium</td>\n",
       "      <td>E</td>\n",
       "      <td>SI1</td>\n",
       "      <td>59.8</td>\n",
       "      <td>61.0</td>\n",
       "      <td>326</td>\n",
       "      <td>3.89</td>\n",
       "      <td>3.84</td>\n",
       "      <td>2.31</td>\n",
       "    </tr>\n",
       "    <tr>\n",
       "      <th>2</th>\n",
       "      <td>0.23</td>\n",
       "      <td>Good</td>\n",
       "      <td>E</td>\n",
       "      <td>VS1</td>\n",
       "      <td>56.9</td>\n",
       "      <td>65.0</td>\n",
       "      <td>327</td>\n",
       "      <td>4.05</td>\n",
       "      <td>4.07</td>\n",
       "      <td>2.31</td>\n",
       "    </tr>\n",
       "    <tr>\n",
       "      <th>3</th>\n",
       "      <td>0.29</td>\n",
       "      <td>Premium</td>\n",
       "      <td>I</td>\n",
       "      <td>VS2</td>\n",
       "      <td>62.4</td>\n",
       "      <td>58.0</td>\n",
       "      <td>334</td>\n",
       "      <td>4.20</td>\n",
       "      <td>4.23</td>\n",
       "      <td>2.63</td>\n",
       "    </tr>\n",
       "    <tr>\n",
       "      <th>4</th>\n",
       "      <td>0.31</td>\n",
       "      <td>Good</td>\n",
       "      <td>J</td>\n",
       "      <td>SI2</td>\n",
       "      <td>63.3</td>\n",
       "      <td>58.0</td>\n",
       "      <td>335</td>\n",
       "      <td>4.34</td>\n",
       "      <td>4.35</td>\n",
       "      <td>2.75</td>\n",
       "    </tr>\n",
       "  </tbody>\n",
       "</table>\n",
       "</div>"
      ],
      "text/plain": [
       "   carat      cut color clarity  depth  table  price     x     y     z\n",
       "0   0.23    Ideal     E     SI2   61.5   55.0    326  3.95  3.98  2.43\n",
       "1   0.21  Premium     E     SI1   59.8   61.0    326  3.89  3.84  2.31\n",
       "2   0.23     Good     E     VS1   56.9   65.0    327  4.05  4.07  2.31\n",
       "3   0.29  Premium     I     VS2   62.4   58.0    334  4.20  4.23  2.63\n",
       "4   0.31     Good     J     SI2   63.3   58.0    335  4.34  4.35  2.75"
      ]
     },
     "execution_count": 2,
     "metadata": {},
     "output_type": "execute_result"
    }
   ],
   "source": [
    "file_url = \".\\\\data\\\\diamonds.csv\"\n",
    "diamonds = pd.read_csv(file_url)\n",
    "diamonds.drop([\"Unnamed: 0\"], axis = 1, inplace = True)\n",
    "diamonds.head()"
   ]
  },
  {
   "cell_type": "code",
   "execution_count": 3,
   "id": "a22589de",
   "metadata": {},
   "outputs": [
    {
     "data": {
      "text/plain": [
       "(53940, 10)"
      ]
     },
     "execution_count": 3,
     "metadata": {},
     "output_type": "execute_result"
    }
   ],
   "source": [
    "diamonds.shape"
   ]
  },
  {
   "cell_type": "code",
   "execution_count": 4,
   "id": "af37bb26",
   "metadata": {},
   "outputs": [
    {
     "name": "stdout",
     "output_type": "stream",
     "text": [
      "<class 'pandas.core.frame.DataFrame'>\n",
      "RangeIndex: 53940 entries, 0 to 53939\n",
      "Data columns (total 10 columns):\n",
      " #   Column   Non-Null Count  Dtype  \n",
      "---  ------   --------------  -----  \n",
      " 0   carat    53940 non-null  float64\n",
      " 1   cut      53940 non-null  object \n",
      " 2   color    53940 non-null  object \n",
      " 3   clarity  53940 non-null  object \n",
      " 4   depth    53940 non-null  float64\n",
      " 5   table    53940 non-null  float64\n",
      " 6   price    53940 non-null  int64  \n",
      " 7   x        53940 non-null  float64\n",
      " 8   y        53940 non-null  float64\n",
      " 9   z        53940 non-null  float64\n",
      "dtypes: float64(6), int64(1), object(3)\n",
      "memory usage: 4.1+ MB\n"
     ]
    }
   ],
   "source": [
    "diamonds.info()"
   ]
  },
  {
   "cell_type": "markdown",
   "id": "dc329940",
   "metadata": {},
   "source": [
    "## Data Preparation\n",
    "\n",
    "#### Encoding of categorical variables"
   ]
  },
  {
   "cell_type": "code",
   "execution_count": 5,
   "id": "3fd813e2",
   "metadata": {},
   "outputs": [
    {
     "name": "stdout",
     "output_type": "stream",
     "text": [
      "['Ideal' 'Premium' 'Good' 'Very Good' 'Fair']\n",
      "['E' 'I' 'J' 'H' 'F' 'G' 'D']\n",
      "['SI2' 'SI1' 'VS1' 'VS2' 'VVS2' 'VVS1' 'I1' 'IF']\n"
     ]
    }
   ],
   "source": [
    "print(diamonds[\"cut\"].unique())\n",
    "print(diamonds[\"color\"].unique())\n",
    "print(diamonds[\"clarity\"].unique())"
   ]
  },
  {
   "cell_type": "code",
   "execution_count": 6,
   "id": "86e4b06c",
   "metadata": {
    "scrolled": true
   },
   "outputs": [
    {
     "data": {
      "text/html": [
       "<div>\n",
       "<style scoped>\n",
       "    .dataframe tbody tr th:only-of-type {\n",
       "        vertical-align: middle;\n",
       "    }\n",
       "\n",
       "    .dataframe tbody tr th {\n",
       "        vertical-align: top;\n",
       "    }\n",
       "\n",
       "    .dataframe thead th {\n",
       "        text-align: right;\n",
       "    }\n",
       "</style>\n",
       "<table border=\"1\" class=\"dataframe\">\n",
       "  <thead>\n",
       "    <tr style=\"text-align: right;\">\n",
       "      <th></th>\n",
       "      <th>carat</th>\n",
       "      <th>depth</th>\n",
       "      <th>table</th>\n",
       "      <th>price</th>\n",
       "      <th>x</th>\n",
       "      <th>y</th>\n",
       "      <th>z</th>\n",
       "      <th>cut_Good</th>\n",
       "      <th>cut_Ideal</th>\n",
       "      <th>cut_Premium</th>\n",
       "      <th>...</th>\n",
       "      <th>color_H</th>\n",
       "      <th>color_I</th>\n",
       "      <th>color_J</th>\n",
       "      <th>clarity_IF</th>\n",
       "      <th>clarity_SI1</th>\n",
       "      <th>clarity_SI2</th>\n",
       "      <th>clarity_VS1</th>\n",
       "      <th>clarity_VS2</th>\n",
       "      <th>clarity_VVS1</th>\n",
       "      <th>clarity_VVS2</th>\n",
       "    </tr>\n",
       "  </thead>\n",
       "  <tbody>\n",
       "    <tr>\n",
       "      <th>0</th>\n",
       "      <td>0.23</td>\n",
       "      <td>61.5</td>\n",
       "      <td>55.0</td>\n",
       "      <td>326</td>\n",
       "      <td>3.95</td>\n",
       "      <td>3.98</td>\n",
       "      <td>2.43</td>\n",
       "      <td>0</td>\n",
       "      <td>1</td>\n",
       "      <td>0</td>\n",
       "      <td>...</td>\n",
       "      <td>0</td>\n",
       "      <td>0</td>\n",
       "      <td>0</td>\n",
       "      <td>0</td>\n",
       "      <td>0</td>\n",
       "      <td>1</td>\n",
       "      <td>0</td>\n",
       "      <td>0</td>\n",
       "      <td>0</td>\n",
       "      <td>0</td>\n",
       "    </tr>\n",
       "    <tr>\n",
       "      <th>1</th>\n",
       "      <td>0.21</td>\n",
       "      <td>59.8</td>\n",
       "      <td>61.0</td>\n",
       "      <td>326</td>\n",
       "      <td>3.89</td>\n",
       "      <td>3.84</td>\n",
       "      <td>2.31</td>\n",
       "      <td>0</td>\n",
       "      <td>0</td>\n",
       "      <td>1</td>\n",
       "      <td>...</td>\n",
       "      <td>0</td>\n",
       "      <td>0</td>\n",
       "      <td>0</td>\n",
       "      <td>0</td>\n",
       "      <td>1</td>\n",
       "      <td>0</td>\n",
       "      <td>0</td>\n",
       "      <td>0</td>\n",
       "      <td>0</td>\n",
       "      <td>0</td>\n",
       "    </tr>\n",
       "    <tr>\n",
       "      <th>2</th>\n",
       "      <td>0.23</td>\n",
       "      <td>56.9</td>\n",
       "      <td>65.0</td>\n",
       "      <td>327</td>\n",
       "      <td>4.05</td>\n",
       "      <td>4.07</td>\n",
       "      <td>2.31</td>\n",
       "      <td>1</td>\n",
       "      <td>0</td>\n",
       "      <td>0</td>\n",
       "      <td>...</td>\n",
       "      <td>0</td>\n",
       "      <td>0</td>\n",
       "      <td>0</td>\n",
       "      <td>0</td>\n",
       "      <td>0</td>\n",
       "      <td>0</td>\n",
       "      <td>1</td>\n",
       "      <td>0</td>\n",
       "      <td>0</td>\n",
       "      <td>0</td>\n",
       "    </tr>\n",
       "    <tr>\n",
       "      <th>3</th>\n",
       "      <td>0.29</td>\n",
       "      <td>62.4</td>\n",
       "      <td>58.0</td>\n",
       "      <td>334</td>\n",
       "      <td>4.20</td>\n",
       "      <td>4.23</td>\n",
       "      <td>2.63</td>\n",
       "      <td>0</td>\n",
       "      <td>0</td>\n",
       "      <td>1</td>\n",
       "      <td>...</td>\n",
       "      <td>0</td>\n",
       "      <td>1</td>\n",
       "      <td>0</td>\n",
       "      <td>0</td>\n",
       "      <td>0</td>\n",
       "      <td>0</td>\n",
       "      <td>0</td>\n",
       "      <td>1</td>\n",
       "      <td>0</td>\n",
       "      <td>0</td>\n",
       "    </tr>\n",
       "    <tr>\n",
       "      <th>4</th>\n",
       "      <td>0.31</td>\n",
       "      <td>63.3</td>\n",
       "      <td>58.0</td>\n",
       "      <td>335</td>\n",
       "      <td>4.34</td>\n",
       "      <td>4.35</td>\n",
       "      <td>2.75</td>\n",
       "      <td>1</td>\n",
       "      <td>0</td>\n",
       "      <td>0</td>\n",
       "      <td>...</td>\n",
       "      <td>0</td>\n",
       "      <td>0</td>\n",
       "      <td>1</td>\n",
       "      <td>0</td>\n",
       "      <td>0</td>\n",
       "      <td>1</td>\n",
       "      <td>0</td>\n",
       "      <td>0</td>\n",
       "      <td>0</td>\n",
       "      <td>0</td>\n",
       "    </tr>\n",
       "  </tbody>\n",
       "</table>\n",
       "<p>5 rows × 24 columns</p>\n",
       "</div>"
      ],
      "text/plain": [
       "   carat  depth  table  price     x     y     z  cut_Good  cut_Ideal  \\\n",
       "0   0.23   61.5   55.0    326  3.95  3.98  2.43         0          1   \n",
       "1   0.21   59.8   61.0    326  3.89  3.84  2.31         0          0   \n",
       "2   0.23   56.9   65.0    327  4.05  4.07  2.31         1          0   \n",
       "3   0.29   62.4   58.0    334  4.20  4.23  2.63         0          0   \n",
       "4   0.31   63.3   58.0    335  4.34  4.35  2.75         1          0   \n",
       "\n",
       "   cut_Premium  ...  color_H  color_I  color_J  clarity_IF  clarity_SI1  \\\n",
       "0            0  ...        0        0        0           0            0   \n",
       "1            1  ...        0        0        0           0            1   \n",
       "2            0  ...        0        0        0           0            0   \n",
       "3            1  ...        0        1        0           0            0   \n",
       "4            0  ...        0        0        1           0            0   \n",
       "\n",
       "   clarity_SI2  clarity_VS1  clarity_VS2  clarity_VVS1  clarity_VVS2  \n",
       "0            1            0            0             0             0  \n",
       "1            0            0            0             0             0  \n",
       "2            0            1            0             0             0  \n",
       "3            0            0            1             0             0  \n",
       "4            1            0            0             0             0  \n",
       "\n",
       "[5 rows x 24 columns]"
      ]
     },
     "execution_count": 6,
     "metadata": {},
     "output_type": "execute_result"
    }
   ],
   "source": [
    "cut_modified = pd.get_dummies(diamonds[\"cut\"], prefix = \"cut\", drop_first = True)\n",
    "color_modified = pd.get_dummies(diamonds[\"color\"], prefix = \"color\", drop_first = True)\n",
    "clarity_modified = pd.get_dummies(diamonds[\"clarity\"], prefix = \"clarity\", drop_first = True)\n",
    "\n",
    "diamonds = pd.concat([diamonds, cut_modified], axis = 1)\n",
    "diamonds = pd.concat([diamonds, color_modified], axis = 1)\n",
    "diamonds = pd.concat([diamonds, clarity_modified], axis = 1)\n",
    "\n",
    "diamonds.drop([\"cut\", \"color\", \"clarity\"], axis = 1, inplace = True)\n",
    "diamonds.head()"
   ]
  },
  {
   "cell_type": "markdown",
   "id": "5c89c6cd",
   "metadata": {},
   "source": [
    "#### Is there a linear relationship between price and carat?\n",
    "#### How about carat square ?"
   ]
  },
  {
   "cell_type": "code",
   "execution_count": 7,
   "id": "9148c112",
   "metadata": {},
   "outputs": [
    {
     "data": {
      "text/plain": [
       "<AxesSubplot:xlabel='squarecarat', ylabel='price'>"
      ]
     },
     "execution_count": 7,
     "metadata": {},
     "output_type": "execute_result"
    },
    {
     "data": {
      "image/png": "[encoded data removed]",
      "text/plain": [
       "<Figure size 432x288 with 1 Axes>"
      ]
     },
     "metadata": {
      "needs_background": "light"
     },
     "output_type": "display_data"
    },
    {
     "data": {
      "image/png": "[encoded data removed]",
      "text/plain": [
       "<Figure size 432x288 with 1 Axes>"
      ]
     },
     "metadata": {
      "needs_background": "light"
     },
     "output_type": "display_data"
    }
   ],
   "source": [
    "diamonds.plot.scatter(\"carat\", \"price\", s = 10)\n",
    "\n",
    "diamonds[\"squarecarat\"] = diamonds[\"carat\"]**2\n",
    "diamonds.plot.scatter(\"squarecarat\", \"price\", s = 10)"
   ]
  },
  {
   "cell_type": "markdown",
   "id": "9e8ee369",
   "metadata": {},
   "source": [
    "## Modeling the data"
   ]
  },
  {
   "cell_type": "code",
   "execution_count": 8,
   "id": "a01a59f6",
   "metadata": {},
   "outputs": [],
   "source": [
    "from sklearn.model_selection import train_test_split\n",
    "from sklearn.metrics import mean_squared_error\n",
    "from sklearn.preprocessing import RobustScaler"
   ]
  },
  {
   "cell_type": "markdown",
   "id": "bc2074e7",
   "metadata": {},
   "source": [
    "#### Scalling and splitting"
   ]
  },
  {
   "cell_type": "code",
   "execution_count": 9,
   "id": "518ebb9d",
   "metadata": {},
   "outputs": [],
   "source": [
    "RS = RobustScaler()\n",
    "X = diamonds.drop(\"price\", axis = 1)\n",
    "X = RS.fit_transform(X)\n",
    "y = diamonds[\"price\"]\n",
    "X_train, X_test, y_train, y_test = train_test_split(X, y, test_size = 0.2, random_state = 123)"
   ]
  },
  {
   "cell_type": "markdown",
   "id": "affad412",
   "metadata": {},
   "source": [
    "#### Creating comparision table for models"
   ]
  },
  {
   "cell_type": "code",
   "execution_count": 10,
   "id": "ebcd0fa9",
   "metadata": {},
   "outputs": [
    {
     "data": {
      "text/html": [
       "<div>\n",
       "<style scoped>\n",
       "    .dataframe tbody tr th:only-of-type {\n",
       "        vertical-align: middle;\n",
       "    }\n",
       "\n",
       "    .dataframe tbody tr th {\n",
       "        vertical-align: top;\n",
       "    }\n",
       "\n",
       "    .dataframe thead th {\n",
       "        text-align: right;\n",
       "    }\n",
       "</style>\n",
       "<table border=\"1\" class=\"dataframe\">\n",
       "  <thead>\n",
       "    <tr style=\"text-align: right;\">\n",
       "      <th></th>\n",
       "      <th>NULL</th>\n",
       "      <th>MLR</th>\n",
       "      <th>KNN</th>\n",
       "      <th>LASSO</th>\n",
       "    </tr>\n",
       "  </thead>\n",
       "  <tbody>\n",
       "    <tr>\n",
       "      <th>MSE_train</th>\n",
       "      <td>NaN</td>\n",
       "      <td>NaN</td>\n",
       "      <td>NaN</td>\n",
       "      <td>NaN</td>\n",
       "    </tr>\n",
       "    <tr>\n",
       "      <th>MSE_test</th>\n",
       "      <td>NaN</td>\n",
       "      <td>NaN</td>\n",
       "      <td>NaN</td>\n",
       "      <td>NaN</td>\n",
       "    </tr>\n",
       "  </tbody>\n",
       "</table>\n",
       "</div>"
      ],
      "text/plain": [
       "          NULL  MLR  KNN LASSO\n",
       "MSE_train  NaN  NaN  NaN   NaN\n",
       "MSE_test   NaN  NaN  NaN   NaN"
      ]
     },
     "execution_count": 10,
     "metadata": {},
     "output_type": "execute_result"
    }
   ],
   "source": [
    "models = pd.DataFrame(index = [\"MSE_train\", \"MSE_test\"], columns = [\"NULL\", \"MLR\", \"KNN\", \"LASSO\"])\n",
    "models"
   ]
  },
  {
   "cell_type": "markdown",
   "id": "a5b3558c",
   "metadata": {},
   "source": [
    "### Models\n",
    "\n",
    "#### A. NULL Model"
   ]
  },
  {
   "cell_type": "code",
   "execution_count": 11,
   "id": "363b5ddd",
   "metadata": {},
   "outputs": [],
   "source": [
    "y_pred_null_value = diamonds[\"price\"].mean()\n",
    "y_pred_null_list1 = [y_pred_null_value]*y_train.size\n",
    "y_pred_null_list2 = [y_pred_null_value]*y_test.size\n",
    "models.loc[\"MSE_train\", \"NULL\"] = mean_squared_error(y_pred = y_pred_null_list1, y_true = y_train)\n",
    "models.loc[\"MSE_test\", \"NULL\"] = mean_squared_error(y_pred = y_pred_null_list2, y_true = y_test)"
   ]
  },
  {
   "cell_type": "markdown",
   "id": "cbcf50aa",
   "metadata": {},
   "source": [
    "#### B. Multiple Linear Regression Model"
   ]
  },
  {
   "cell_type": "code",
   "execution_count": 12,
   "id": "ff19942e",
   "metadata": {},
   "outputs": [],
   "source": [
    "from sklearn.linear_model import LinearRegression\n",
    "MLR = LinearRegression()\n",
    "MLR.fit(X_train, y_train)\n",
    "models.loc[\"MSE_train\",\"MLR\"] = mean_squared_error(y_pred = MLR.predict(X_train), y_true = y_train)\n",
    "models.loc[\"MSE_test\",\"MLR\"] = mean_squared_error(y_pred = MLR.predict(X_test), y_true = y_test)"
   ]
  },
  {
   "cell_type": "markdown",
   "id": "26e3bf35",
   "metadata": {},
   "source": [
    "#### C. K-Nearest Neighbors Model"
   ]
  },
  {
   "cell_type": "code",
   "execution_count": 13,
   "id": "72a3c81b",
   "metadata": {},
   "outputs": [],
   "source": [
    "from sklearn.neighbors import KNeighborsRegressor\n",
    "KNN = KNeighborsRegressor(n_neighbors = 10, weights = \"distance\", metric = \"euclidean\", n_jobs = -1)\n",
    "KNN.fit(X_train, y_train)\n",
    "models.loc[\"MSE_train\",\"KNN\"] = mean_squared_error(y_pred = KNN.predict(X_train), y_true = y_train)\n",
    "models.loc[\"MSE_test\",\"KNN\"] = mean_squared_error(y_pred = KNN.predict(X_test), y_true = y_test)"
   ]
  },
  {
   "cell_type": "markdown",
   "id": "4dc586c8",
   "metadata": {},
   "source": [
    "#### D. LASSO Model"
   ]
  },
  {
   "cell_type": "code",
   "execution_count": 14,
   "id": "f6d7bd4b",
   "metadata": {},
   "outputs": [
    {
     "name": "stderr",
     "output_type": "stream",
     "text": [
      "C:\\Users\\tohid\\AppData\\Roaming\\Python\\Python38\\site-packages\\sklearn\\linear_model\\_coordinate_descent.py:530: ConvergenceWarning: Objective did not converge. You might want to increase the number of iterations. Duality gap: 782305135.1680298, tolerance: 68714800.45190111\n",
      "  model = cd_fast.enet_coordinate_descent(\n"
     ]
    }
   ],
   "source": [
    "from sklearn.linear_model import Lasso\n",
    "LASSO = Lasso(alpha = 0.1)\n",
    "LASSO.fit(X_train, y_train)\n",
    "models.loc[\"MSE_train\",\"LASSO\"] = mean_squared_error(y_pred = LASSO.predict(X_train), y_true = y_train)\n",
    "models.loc[\"MSE_test\",\"LASSO\"] = mean_squared_error(y_pred = LASSO.predict(X_test), y_true = y_test)"
   ]
  },
  {
   "cell_type": "code",
   "execution_count": 15,
   "id": "8102a78a",
   "metadata": {
    "scrolled": true
   },
   "outputs": [
    {
     "data": {
      "text/html": [
       "<div>\n",
       "<style scoped>\n",
       "    .dataframe tbody tr th:only-of-type {\n",
       "        vertical-align: middle;\n",
       "    }\n",
       "\n",
       "    .dataframe tbody tr th {\n",
       "        vertical-align: top;\n",
       "    }\n",
       "\n",
       "    .dataframe thead th {\n",
       "        text-align: right;\n",
       "    }\n",
       "</style>\n",
       "<table border=\"1\" class=\"dataframe\">\n",
       "  <thead>\n",
       "    <tr style=\"text-align: right;\">\n",
       "      <th></th>\n",
       "      <th>NULL</th>\n",
       "      <th>MLR</th>\n",
       "      <th>KNN</th>\n",
       "      <th>LASSO</th>\n",
       "    </tr>\n",
       "  </thead>\n",
       "  <tbody>\n",
       "    <tr>\n",
       "      <th>MSE_train</th>\n",
       "      <td>15923909.173534</td>\n",
       "      <td>1250840.996968</td>\n",
       "      <td>59.967155</td>\n",
       "      <td>1250899.646873</td>\n",
       "    </tr>\n",
       "    <tr>\n",
       "      <th>MSE_test</th>\n",
       "      <td>15881035.11875</td>\n",
       "      <td>1248901.790126</td>\n",
       "      <td>583111.097947</td>\n",
       "      <td>1249406.207444</td>\n",
       "    </tr>\n",
       "  </tbody>\n",
       "</table>\n",
       "</div>"
      ],
      "text/plain": [
       "                      NULL             MLR            KNN           LASSO\n",
       "MSE_train  15923909.173534  1250840.996968      59.967155  1250899.646873\n",
       "MSE_test    15881035.11875  1248901.790126  583111.097947  1249406.207444"
      ]
     },
     "execution_count": 15,
     "metadata": {},
     "output_type": "execute_result"
    }
   ],
   "source": [
    "models"
   ]
  },
  {
   "cell_type": "code",
   "execution_count": 16,
   "id": "61df5a6c",
   "metadata": {
    "scrolled": true
   },
   "outputs": [
    {
     "data": {
      "text/plain": [
       "<matplotlib.legend.Legend at 0x1e48bd8d520>"
      ]
     },
     "execution_count": 16,
     "metadata": {},
     "output_type": "execute_result"
    },
    {
     "data": {
      "image/png": "[encoded data removed]",
      "text/plain": [
       "<Figure size 432x216 with 1 Axes>"
      ]
     },
     "metadata": {
      "needs_background": "light"
     },
     "output_type": "display_data"
    }
   ],
   "source": [
    "fig, ax = plt.subplots(figsize = (6,3))\n",
    "models.loc[\"MSE_test\"].plot(kind = \"bar\", ax = ax)\n",
    "ax.set_title(\"Test MSE for regression models\")\n",
    "ax.legend(loc = 'lower right')"
   ]
  },
  {
   "cell_type": "markdown",
   "id": "cbdfbc57",
   "metadata": {},
   "source": [
    "#### Insight:\n",
    "- It is observable that the null model is much worse than the 3 others\n",
    "- By removing the null model from the plot, we can make comparision with a better resolution"
   ]
  },
  {
   "cell_type": "code",
   "execution_count": 17,
   "id": "ac8223d1",
   "metadata": {
    "scrolled": true
   },
   "outputs": [
    {
     "data": {
      "text/plain": [
       "<matplotlib.legend.Legend at 0x1e4f8350370>"
      ]
     },
     "execution_count": 17,
     "metadata": {},
     "output_type": "execute_result"
    },
    {
     "data": {
      "image/png": "[encoded data removed]",
      "text/plain": [
       "<Figure size 432x216 with 1 Axes>"
      ]
     },
     "metadata": {
      "needs_background": "light"
     },
     "output_type": "display_data"
    }
   ],
   "source": [
    "models1 = models.drop([\"NULL\"], axis = 1)\n",
    "fig, ax = plt.subplots(figsize = (6,3))\n",
    "models1.loc[\"MSE_test\"].plot(kind = \"barh\", ax = ax)\n",
    "ax.set_title(\"Test MSE for regression models\")\n",
    "ax.legend(loc = 'lower right')"
   ]
  },
  {
   "cell_type": "markdown",
   "id": "259d8154",
   "metadata": {},
   "source": [
    "### Insight:\n",
    "As can be seen, the best model is KNN."
   ]
  },
  {
   "cell_type": "code",
   "execution_count": 18,
   "id": "2489b4e7",
   "metadata": {
    "scrolled": true
   },
   "outputs": [
    {
     "data": {
      "text/plain": [
       "Text(0, 0.5, 'price_test')"
      ]
     },
     "execution_count": 18,
     "metadata": {},
     "output_type": "execute_result"
    },
    {
     "data": {
      "image/png": "[encoded data removed]",
      "text/plain": [
       "<Figure size 432x216 with 1 Axes>"
      ]
     },
     "metadata": {
      "needs_background": "light"
     },
     "output_type": "display_data"
    }
   ],
   "source": [
    "fig, ax = plt.subplots(figsize = (6, 3))\n",
    "plt.scatter(x = KNN.predict(X_test), y = y_test , s = 2)\n",
    "plt.plot(y_test, y_test, color = \"red\")\n",
    "ax.set_title(\"KNN Prediction vs test Data\")\n",
    "ax.set_xlabel(\"price_KNN\")\n",
    "ax.set_ylabel(\"price_test\")"
   ]
  },
  {
   "cell_type": "markdown",
   "id": "f6504574",
   "metadata": {},
   "source": [
    "## Predciting the price of a new diamond using the best model\n",
    "As we are happy with the model, we are going to retrain the model with all the data and use the final model for prediction purposes."
   ]
  },
  {
   "cell_type": "code",
   "execution_count": 19,
   "id": "bd229e19",
   "metadata": {},
   "outputs": [],
   "source": [
    "KNN_final = KNN.fit(X, y)"
   ]
  },
  {
   "cell_type": "code",
   "execution_count": 20,
   "id": "b06a11b7",
   "metadata": {},
   "outputs": [],
   "source": [
    "new_diamond = OrderedDict([('carat', 0.024), ('depth', 62.3), ('table', 59.0), ('x', 3.95),\n",
    "                          ('y', 3.92), ('z', 2.45), ('cut_Good', 0.0), ('cut_Ideal', 0.0),\n",
    "                          ('cut_Premium', 1.0), ('cut_Very Good', 0.0), ('color_E', 0.0), \n",
    "                          ('color_F', 0.0), ('color_G', 1.0), ('color_H', 0.0), \n",
    "                          ('color_I', 0.0), ('color_J', 0.0), ('clarity_IF', 0.0), \n",
    "                          ('clarity_SI1', 0.0), ('clarity_SI2', 0.0), ('clarity_VS1', 0.0),\n",
    "                          ('clarity_VS2', 0.0), ('clarity_VVS1', 1.0), ('clarity_VVS2', 0.0),\n",
    "                          ('caratsquared', 0.0576)\n",
    "                          ])"
   ]
  },
  {
   "cell_type": "code",
   "execution_count": 21,
   "id": "80217bec",
   "metadata": {},
   "outputs": [
    {
     "data": {
      "text/plain": [
       "array([[-1.05625   ,  0.33333333,  0.66666667, -0.95628415, -0.98351648,\n",
       "        -0.95575221,  0.        ,  0.        ,  1.        ,  0.        ,\n",
       "         0.        ,  0.        ,  1.        ,  0.        ,  0.        ,\n",
       "         0.        ,  0.        ,  0.        ,  0.        ,  0.        ,\n",
       "         0.        ,  1.        ,  0.        , -0.46918403]])"
      ]
     },
     "execution_count": 21,
     "metadata": {},
     "output_type": "execute_result"
    }
   ],
   "source": [
    "new_diamond = pd.Series(new_diamond).values.reshape(1, -1)\n",
    "new_diamond = RS.transform(new_diamond)\n",
    "new_diamond"
   ]
  },
  {
   "cell_type": "code",
   "execution_count": 22,
   "id": "bd2d10da",
   "metadata": {},
   "outputs": [
    {
     "data": {
      "text/plain": [
       "array([869.13097074])"
      ]
     },
     "execution_count": 22,
     "metadata": {},
     "output_type": "execute_result"
    }
   ],
   "source": [
    "KNN_final.predict(new_diamond)"
   ]
  }
 ],
 "metadata": {
  "kernelspec": {
   "display_name": "Python 3 (ipykernel)",
   "language": "python",
   "name": "python3"
  },
  "language_info": {
   "codemirror_mode": {
    "name": "ipython",
    "version": 3
   },
   "file_extension": ".py",
   "mimetype": "text/x-python",
   "name": "python",
   "nbconvert_exporter": "python",
   "pygments_lexer": "ipython3",
   "version": "3.8.11"
  }
 },
 "nbformat": 4,
 "nbformat_minor": 5
}
